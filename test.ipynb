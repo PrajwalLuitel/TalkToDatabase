{
 "cells": [
  {
   "cell_type": "code",
   "execution_count": null,
   "metadata": {},
   "outputs": [],
   "source": [
    "# testing the SQL connection\n",
    "from src.llm_inference import TextInference\n",
    "from src.database_connector import DatabaseAgent\n",
    "from src.prompt_formatter import PromptFormatterV1\n",
    "from src.utils import SQLExtractor, get_data_from_query"
   ]
  },
  {
   "cell_type": "code",
   "execution_count": null,
   "metadata": {},
   "outputs": [],
   "source": [
    "username = 'root'   \n",
    "password = 'core'  \n",
    "hostname = 'localhost'\n",
    "database_name = 'classicmodels'  \n",
    "\n",
    "sql_agent = DatabaseAgent(host_name=hostname,port=3306,username=username,database_name=database_name,password=password, database_type=\"MySQL\")\n",
    "tables = sql_agent.grab_table_schema(sql_agent.grab_table_names())\n",
    "prompt_format = PromptFormatterV1(tables=tables, db_type=\"MySQL\")"
   ]
  },
  {
   "cell_type": "code",
   "execution_count": null,
   "metadata": {},
   "outputs": [],
   "source": [
    "prompt =  prompt_format(question=\"Names of customers having more than 10K in a single basket, along with their purchase amount\")\n",
    "inference = TextInference(model_name=\"NumbersStation/nsql-350M\")\n",
    "output = inference.generate_text(prompt, max_length=1024)\n",
    "extractor = SQLExtractor(text=output)\n",
    "result = extractor.extract_select_commands()[-1]\n",
    "print(result)"
   ]
  },
  {
   "cell_type": "code",
   "execution_count": null,
   "metadata": {},
   "outputs": [],
   "source": [
    "get_data_from_query(query=result,db_url=sql_agent.conn_str)"
   ]
  },
  {
   "cell_type": "code",
   "execution_count": 1,
   "metadata": {},
   "outputs": [
    {
     "name": "stderr",
     "output_type": "stream",
     "text": [
      "/home/rjn/miniconda3/envs/ttb/lib/python3.10/site-packages/tqdm/auto.py:21: TqdmWarning: IProgress not found. Please update jupyter and ipywidgets. See https://ipywidgets.readthedocs.io/en/stable/user_install.html\n",
      "  from .autonotebook import tqdm as notebook_tqdm\n"
     ]
    }
   ],
   "source": [
    "# testing the SQL connection\n",
    "from src.llm_inference import TextInference\n",
    "from src.database_connector import DatabaseAgent\n",
    "from src.prompt_formatter import PromptFormatterV1\n",
    "from src.utils import SQLExtractor, get_data_from_query"
   ]
  },
  {
   "cell_type": "code",
   "execution_count": 2,
   "metadata": {},
   "outputs": [
    {
     "name": "stdout",
     "output_type": "stream",
     "text": [
      "Connection to MySQL database successful!\n"
     ]
    }
   ],
   "source": [
    "username = 'postgres'   \n",
    "password = ''  \n",
    "hostname = 'localhost'\n",
    "database_name = 'companydb'  \n",
    "\n",
    "sql_agent = DatabaseAgent(host_name=hostname,port=5432,username=username,database_name=database_name,password=password, database_type=\"PostgreSQL\")"
   ]
  },
  {
   "cell_type": "code",
   "execution_count": 3,
   "metadata": {},
   "outputs": [],
   "source": [
    "tables = sql_agent.grab_table_schema(sql_agent.grab_table_names())\n",
    "prompt_format = PromptFormatterV1(tables=tables, db_type=\"MySQL\")"
   ]
  },
  {
   "cell_type": "code",
   "execution_count": 4,
   "metadata": {},
   "outputs": [
    {
     "name": "stderr",
     "output_type": "stream",
     "text": [
      "The attention mask and the pad token id were not set. As a consequence, you may observe unexpected behavior. Please pass your input's `attention_mask` to obtain reliable results.\n",
      "Setting `pad_token_id` to `eos_token_id`:50256 for open-end generation.\n",
      "The attention mask is not set and cannot be inferred from input because pad token is same as eos token.As a consequence, you may observe unexpected behavior. Please pass your input's `attention_mask` to obtain reliable results.\n"
     ]
    },
    {
     "name": "stdout",
     "output_type": "stream",
     "text": [
      "SELECT name, salary FROM employees WHERE salary > 50000;\n"
     ]
    }
   ],
   "source": [
    "prompt =  prompt_format(question=\"Give me name and salary of employees whose salary is greater than 50000.\")\n",
    "inference = TextInference(model_name=\"NumbersStation/nsql-350M\")\n",
    "output = inference.generate_text(prompt, max_length=1024)\n",
    "extractor = SQLExtractor(text=output)\n",
    "result = extractor.extract_select_commands()[-1]\n",
    "print(result)"
   ]
  },
  {
   "cell_type": "code",
   "execution_count": 5,
   "metadata": {},
   "outputs": [
    {
     "name": "stderr",
     "output_type": "stream",
     "text": [
      "/home/rjn/Documents/GitHub/TalkToDatabase/src/utils.py:22: UserWarning: pandas only supports SQLAlchemy connectable (engine/connection) or database string URI or sqlite3 DBAPI2 connection. Other DBAPI2 objects are not tested. Please consider using SQLAlchemy.\n",
      "  data = pd.read_sql_query(str(query), raw_conn, params=params)\n"
     ]
    },
    {
     "data": {
      "text/html": [
       "<div>\n",
       "<style scoped>\n",
       "    .dataframe tbody tr th:only-of-type {\n",
       "        vertical-align: middle;\n",
       "    }\n",
       "\n",
       "    .dataframe tbody tr th {\n",
       "        vertical-align: top;\n",
       "    }\n",
       "\n",
       "    .dataframe thead th {\n",
       "        text-align: right;\n",
       "    }\n",
       "</style>\n",
       "<table border=\"1\" class=\"dataframe\">\n",
       "  <thead>\n",
       "    <tr style=\"text-align: right;\">\n",
       "      <th></th>\n",
       "      <th>name</th>\n",
       "      <th>salary</th>\n",
       "    </tr>\n",
       "  </thead>\n",
       "  <tbody>\n",
       "    <tr>\n",
       "      <th>0</th>\n",
       "      <td>Alice</td>\n",
       "      <td>80000</td>\n",
       "    </tr>\n",
       "    <tr>\n",
       "      <th>1</th>\n",
       "      <td>Bob</td>\n",
       "      <td>60000</td>\n",
       "    </tr>\n",
       "    <tr>\n",
       "      <th>2</th>\n",
       "      <td>Carol</td>\n",
       "      <td>55000</td>\n",
       "    </tr>\n",
       "    <tr>\n",
       "      <th>3</th>\n",
       "      <td>Dave</td>\n",
       "      <td>62000</td>\n",
       "    </tr>\n",
       "  </tbody>\n",
       "</table>\n",
       "</div>"
      ],
      "text/plain": [
       "    name  salary\n",
       "0  Alice   80000\n",
       "1    Bob   60000\n",
       "2  Carol   55000\n",
       "3   Dave   62000"
      ]
     },
     "execution_count": 5,
     "metadata": {},
     "output_type": "execute_result"
    }
   ],
   "source": [
    "get_data_from_query(result,sql_agent.conn_str)"
   ]
  },
  {
   "cell_type": "code",
   "execution_count": null,
   "metadata": {},
   "outputs": [],
   "source": []
  }
 ],
 "metadata": {
  "kernelspec": {
   "display_name": "aimt",
   "language": "python",
   "name": "python3"
  },
  "language_info": {
   "codemirror_mode": {
    "name": "ipython",
    "version": 3
   },
   "file_extension": ".py",
   "mimetype": "text/x-python",
   "name": "python",
   "nbconvert_exporter": "python",
   "pygments_lexer": "ipython3",
   "version": "3.10.0"
  }
 },
 "nbformat": 4,
 "nbformat_minor": 2
}
