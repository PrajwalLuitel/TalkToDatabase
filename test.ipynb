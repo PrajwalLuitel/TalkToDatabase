{
 "cells": [
  {
   "cell_type": "code",
   "execution_count": null,
   "metadata": {},
   "outputs": [],
   "source": [
    "# testing the SQL connection\n",
    "from src.database_connector import SQLAgent"
   ]
  },
  {
   "cell_type": "code",
   "execution_count": null,
   "metadata": {},
   "outputs": [],
   "source": [
    "username = 'root'   \n",
    "password = 'core'  \n",
    "hostname = 'localhost'\n",
    "database_name = 'classicmodels'  \n",
    "\n",
    "sql_agent = SQLAgent(host_name=hostname,port=3306,username=username,database_name=database_name,password=password, database_type=\"MySQL\")"
   ]
  },
  {
   "cell_type": "code",
   "execution_count": null,
   "metadata": {},
   "outputs": [],
   "source": [
    "table, schema = sql_agent.exract_db_info()"
   ]
  },
  {
   "cell_type": "code",
   "execution_count": null,
   "metadata": {},
   "outputs": [],
   "source": [
    "table"
   ]
  },
  {
   "cell_type": "code",
   "execution_count": null,
   "metadata": {},
   "outputs": [],
   "source": [
    "print(schema)"
   ]
  },
  {
   "cell_type": "code",
   "execution_count": null,
   "metadata": {},
   "outputs": [],
   "source": [
    "from src.prompt_formatters import RajkumarFormatter"
   ]
  },
  {
   "cell_type": "code",
   "execution_count": null,
   "metadata": {},
   "outputs": [],
   "source": [
    "formatter = RajkumarFormatter(schema)"
   ]
  },
  {
   "cell_type": "code",
   "execution_count": null,
   "metadata": {},
   "outputs": [],
   "source": [
    "schema\n"
   ]
  },
  {
   "cell_type": "code",
   "execution_count": 4,
   "metadata": {},
   "outputs": [],
   "source": [
    "from src.prompt_formatters import SQLiteConnector,PostgresConnector"
   ]
  },
  {
   "cell_type": "code",
   "execution_count": 5,
   "metadata": {},
   "outputs": [],
   "source": [
    "username = 'postgres'   \n",
    "password = ''  \n",
    "hostname = 'localhost'\n",
    "database_name = 'companydb'  \n",
    "\n",
    "postgres_connector = PostgresConnector(\n",
    "    user=username, password=password, dbname=database_name, host=hostname,port=5432)"
   ]
  },
  {
   "cell_type": "code",
   "execution_count": 7,
   "metadata": {},
   "outputs": [],
   "source": [
    "from src.prompt_formatters import RajkumarFormatter"
   ]
  },
  {
   "cell_type": "code",
   "execution_count": 8,
   "metadata": {},
   "outputs": [],
   "source": [
    "db_schema = [postgres_connector.get_schema(table) for table in postgres_connector.get_tables()]"
   ]
  },
  {
   "cell_type": "code",
   "execution_count": 9,
   "metadata": {},
   "outputs": [
    {
     "data": {
      "text/plain": [
       "[Table(name='departments', columns=[TableColumn(name='id', dtype='integer'), TableColumn(name='name', dtype='character varying'), TableColumn(name='location', dtype='character varying')], pks=None, fks=None),\n",
       " Table(name='employees', columns=[TableColumn(name='id', dtype='integer'), TableColumn(name='salary', dtype='integer'), TableColumn(name='department_id', dtype='integer'), TableColumn(name='name', dtype='character varying'), TableColumn(name='position', dtype='character varying')], pks=None, fks=None)]"
      ]
     },
     "execution_count": 9,
     "metadata": {},
     "output_type": "execute_result"
    }
   ],
   "source": [
    "db_schema"
   ]
  },
  {
   "cell_type": "code",
   "execution_count": null,
   "metadata": {},
   "outputs": [],
   "source": [
    "formatter = RajkumarFormatter(db_schema)"
   ]
  }
 ],
 "metadata": {
  "kernelspec": {
   "display_name": "aimt",
   "language": "python",
   "name": "python3"
  },
  "language_info": {
   "codemirror_mode": {
    "name": "ipython",
    "version": 3
   },
   "file_extension": ".py",
   "mimetype": "text/x-python",
   "name": "python",
   "nbconvert_exporter": "python",
   "pygments_lexer": "ipython3",
   "version": "3.10.0"
  }
 },
 "nbformat": 4,
 "nbformat_minor": 2
}
