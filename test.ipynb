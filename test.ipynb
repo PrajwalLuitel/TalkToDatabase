{
 "cells": [
  {
   "cell_type": "code",
   "execution_count": 1,
   "metadata": {},
   "outputs": [],
   "source": [
    "# testing the SQL connection\n",
    "from src.database_connector import DatabaseAgent"
   ]
  },
  {
   "cell_type": "code",
   "execution_count": 2,
   "metadata": {},
   "outputs": [
    {
     "name": "stdout",
     "output_type": "stream",
     "text": [
      "Connection to MySQL database successful!\n"
     ]
    }
   ],
   "source": [
    "username = 'root'   \n",
    "password = 'core'  \n",
    "hostname = 'localhost'\n",
    "database_name = 'classicmodels'  \n",
    "\n",
    "sql_agent = DatabaseAgent(host_name=hostname,port=3306,username=username,database_name=database_name,password=password, database_type=\"MySQL\")"
   ]
  },
  {
   "cell_type": "code",
   "execution_count": 3,
   "metadata": {},
   "outputs": [
    {
     "data": {
      "text/plain": [
       "['customers',\n",
       " 'employees',\n",
       " 'offices',\n",
       " 'orderdetails',\n",
       " 'orders',\n",
       " 'payments',\n",
       " 'productlines',\n",
       " 'products']"
      ]
     },
     "execution_count": 3,
     "metadata": {},
     "output_type": "execute_result"
    }
   ],
   "source": [
    "sql_agent.grab_table_names()"
   ]
  },
  {
   "cell_type": "code",
   "execution_count": 4,
   "metadata": {},
   "outputs": [
    {
     "data": {
      "text/plain": [
       "[Table(name='customers', columns=[TableColumn(name='customerNumber', dtype='int'), TableColumn(name='customerName', dtype='varchar'), TableColumn(name='contactLastName', dtype='varchar'), TableColumn(name='contactFirstName', dtype='varchar'), TableColumn(name='phone', dtype='varchar'), TableColumn(name='addressLine1', dtype='varchar'), TableColumn(name='addressLine2', dtype='varchar'), TableColumn(name='city', dtype='varchar'), TableColumn(name='state', dtype='varchar'), TableColumn(name='postalCode', dtype='varchar'), TableColumn(name='country', dtype='varchar'), TableColumn(name='salesRepEmployeeNumber', dtype='int'), TableColumn(name='creditLimit', dtype='decimal')], pks=None, fks=None),\n",
       " Table(name='employees', columns=[TableColumn(name='employeeNumber', dtype='int'), TableColumn(name='lastName', dtype='varchar'), TableColumn(name='firstName', dtype='varchar'), TableColumn(name='extension', dtype='varchar'), TableColumn(name='email', dtype='varchar'), TableColumn(name='officeCode', dtype='varchar'), TableColumn(name='reportsTo', dtype='int'), TableColumn(name='jobTitle', dtype='varchar')], pks=None, fks=None),\n",
       " Table(name='offices', columns=[TableColumn(name='officeCode', dtype='varchar'), TableColumn(name='city', dtype='varchar'), TableColumn(name='phone', dtype='varchar'), TableColumn(name='addressLine1', dtype='varchar'), TableColumn(name='addressLine2', dtype='varchar'), TableColumn(name='state', dtype='varchar'), TableColumn(name='country', dtype='varchar'), TableColumn(name='postalCode', dtype='varchar'), TableColumn(name='territory', dtype='varchar')], pks=None, fks=None),\n",
       " Table(name='orderdetails', columns=[TableColumn(name='orderNumber', dtype='int'), TableColumn(name='productCode', dtype='varchar'), TableColumn(name='quantityOrdered', dtype='int'), TableColumn(name='priceEach', dtype='decimal'), TableColumn(name='orderLineNumber', dtype='smallint')], pks=None, fks=None),\n",
       " Table(name='orders', columns=[TableColumn(name='orderNumber', dtype='int'), TableColumn(name='orderDate', dtype='date'), TableColumn(name='requiredDate', dtype='date'), TableColumn(name='shippedDate', dtype='date'), TableColumn(name='status', dtype='varchar'), TableColumn(name='comments', dtype='text'), TableColumn(name='customerNumber', dtype='int')], pks=None, fks=None),\n",
       " Table(name='payments', columns=[TableColumn(name='customerNumber', dtype='int'), TableColumn(name='checkNumber', dtype='varchar'), TableColumn(name='paymentDate', dtype='date'), TableColumn(name='amount', dtype='decimal')], pks=None, fks=None),\n",
       " Table(name='productlines', columns=[TableColumn(name='productLine', dtype='varchar'), TableColumn(name='textDescription', dtype='varchar'), TableColumn(name='htmlDescription', dtype='mediumtext'), TableColumn(name='image', dtype='mediumblob')], pks=None, fks=None),\n",
       " Table(name='products', columns=[TableColumn(name='productCode', dtype='varchar'), TableColumn(name='productName', dtype='varchar'), TableColumn(name='productLine', dtype='varchar'), TableColumn(name='productScale', dtype='varchar'), TableColumn(name='productVendor', dtype='varchar'), TableColumn(name='productDescription', dtype='text'), TableColumn(name='quantityInStock', dtype='smallint'), TableColumn(name='buyPrice', dtype='decimal'), TableColumn(name='MSRP', dtype='decimal')], pks=None, fks=None)]"
      ]
     },
     "execution_count": 4,
     "metadata": {},
     "output_type": "execute_result"
    }
   ],
   "source": [
    "sql_agent.grab_table_schema(sql_agent.grab_table_names())"
   ]
  },
  {
   "cell_type": "code",
   "execution_count": 5,
   "metadata": {},
   "outputs": [],
   "source": [
    "from src.promot_format import PromptFormatterV1"
   ]
  },
  {
   "cell_type": "code",
   "execution_count": 6,
   "metadata": {},
   "outputs": [],
   "source": [
    "prompt_format = PromptFormatterV1(tables=sql_agent.grab_table_schema(sql_agent.grab_table_names()))"
   ]
  },
  {
   "cell_type": "code",
   "execution_count": 7,
   "metadata": {},
   "outputs": [
    {
     "name": "stdout",
     "output_type": "stream",
     "text": [
      "CREATE TABLE customers (\n",
      "    customerNumber int,\n",
      "    customerName varchar,\n",
      "    contactLastName varchar,\n",
      "    contactFirstName varchar,\n",
      "    phone varchar,\n",
      "    addressLine1 varchar,\n",
      "    addressLine2 varchar,\n",
      "    city varchar,\n",
      "    state varchar,\n",
      "    postalCode varchar,\n",
      "    country varchar,\n",
      "    salesRepEmployeeNumber int,\n",
      "    creditLimit decimal\n",
      ")\n",
      "\n",
      "CREATE TABLE employees (\n",
      "    employeeNumber int,\n",
      "    lastName varchar,\n",
      "    firstName varchar,\n",
      "    extension varchar,\n",
      "    email varchar,\n",
      "    officeCode varchar,\n",
      "    reportsTo int,\n",
      "    jobTitle varchar\n",
      ")\n",
      "\n",
      "CREATE TABLE offices (\n",
      "    officeCode varchar,\n",
      "    city varchar,\n",
      "    phone varchar,\n",
      "    addressLine1 varchar,\n",
      "    addressLine2 varchar,\n",
      "    state varchar,\n",
      "    country varchar,\n",
      "    postalCode varchar,\n",
      "    territory varchar\n",
      ")\n",
      "\n",
      "CREATE TABLE orderdetails (\n",
      "    orderNumber int,\n",
      "    productCode varchar,\n",
      "    quantityOrdered int,\n",
      "    priceEach decimal,\n",
      "    orderLineNumber smallint\n",
      ")\n",
      "\n",
      "CREATE TABLE orders (\n",
      "    orderNumber int,\n",
      "    orderDate date,\n",
      "    requiredDate date,\n",
      "    shippedDate date,\n",
      "    status varchar,\n",
      "    comments text,\n",
      "    customerNumber int\n",
      ")\n",
      "\n",
      "CREATE TABLE payments (\n",
      "    customerNumber int,\n",
      "    checkNumber varchar,\n",
      "    paymentDate date,\n",
      "    amount decimal\n",
      ")\n",
      "\n",
      "CREATE TABLE productlines (\n",
      "    productLine varchar,\n",
      "    textDescription varchar,\n",
      "    htmlDescription mediumtext,\n",
      "    image mediumblob\n",
      ")\n",
      "\n",
      "CREATE TABLE products (\n",
      "    productCode varchar,\n",
      "    productName varchar,\n",
      "    productLine varchar,\n",
      "    productScale varchar,\n",
      "    productVendor varchar,\n",
      "    productDescription text,\n",
      "    quantityInStock smallint,\n",
      "    buyPrice decimal,\n",
      "    MSRP decimal\n",
      ")\n"
     ]
    }
   ],
   "source": [
    "prompt_format(question=\"H\")"
   ]
  },
  {
   "cell_type": "code",
   "execution_count": 6,
   "metadata": {},
   "outputs": [
    {
     "name": "stdout",
     "output_type": "stream",
     "text": [
      "Connection to MySQL database successful!\n"
     ]
    }
   ],
   "source": [
    "username = 'postgres'   \n",
    "password = ''  \n",
    "hostname = 'localhost'\n",
    "database_name = 'companydb'  \n",
    "\n",
    "sql_agent = DatabaseAgent(host_name=hostname,port=5432,username=username,database_name=database_name,password=password, database_type=\"PostgreSQL\")"
   ]
  },
  {
   "cell_type": "code",
   "execution_count": 7,
   "metadata": {},
   "outputs": [
    {
     "data": {
      "text/plain": [
       "[Table(name='departments', columns=[TableColumn(name='id', dtype='integer'), TableColumn(name='name', dtype='character varying'), TableColumn(name='location', dtype='character varying')], pks=None, fks=None),\n",
       " Table(name='employees', columns=[TableColumn(name='id', dtype='integer'), TableColumn(name='salary', dtype='integer'), TableColumn(name='department_id', dtype='integer'), TableColumn(name='name', dtype='character varying'), TableColumn(name='position', dtype='character varying')], pks=None, fks=None)]"
      ]
     },
     "execution_count": 7,
     "metadata": {},
     "output_type": "execute_result"
    }
   ],
   "source": [
    "sql_agent.grab_table_schema(sql_agent.grab_table_names())"
   ]
  },
  {
   "cell_type": "code",
   "execution_count": null,
   "metadata": {},
   "outputs": [],
   "source": []
  }
 ],
 "metadata": {
  "kernelspec": {
   "display_name": "aimt",
   "language": "python",
   "name": "python3"
  },
  "language_info": {
   "codemirror_mode": {
    "name": "ipython",
    "version": 3
   },
   "file_extension": ".py",
   "mimetype": "text/x-python",
   "name": "python",
   "nbconvert_exporter": "python",
   "pygments_lexer": "ipython3",
   "version": "3.10.0"
  }
 },
 "nbformat": 4,
 "nbformat_minor": 2
}
