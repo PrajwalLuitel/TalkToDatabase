{
 "cells": [
  {
   "cell_type": "code",
   "execution_count": 1,
   "metadata": {},
   "outputs": [
    {
     "name": "stderr",
     "output_type": "stream",
     "text": [
      "/home/rjn/miniconda3/envs/ttb/lib/python3.10/site-packages/tqdm/auto.py:21: TqdmWarning: IProgress not found. Please update jupyter and ipywidgets. See https://ipywidgets.readthedocs.io/en/stable/user_install.html\n",
      "  from .autonotebook import tqdm as notebook_tqdm\n"
     ]
    }
   ],
   "source": [
    "from peft import PeftModel, PeftConfig\n",
    "from transformers import AutoModelForCausalLM,AutoTokenizer\n",
    "\n",
    "config = PeftConfig.from_pretrained(\"Rajan/training_run\")\n",
    "tokenizer = AutoTokenizer.from_pretrained(\"NumbersStation/nsql-350M\")\n",
    "base_model = AutoModelForCausalLM.from_pretrained(\"NumbersStation/nsql-350M\")\n",
    "model = PeftModel.from_pretrained(base_model, \"Rajan/training_run\").to(\"cuda\")"
   ]
  },
  {
   "cell_type": "code",
   "execution_count": 20,
   "metadata": {},
   "outputs": [
    {
     "name": "stderr",
     "output_type": "stream",
     "text": [
      "The attention mask and the pad token id were not set. As a consequence, you may observe unexpected behavior. Please pass your input's `attention_mask` to obtain reliable results.\n",
      "Setting `pad_token_id` to `eos_token_id`:50256 for open-end generation.\n"
     ]
    }
   ],
   "source": [
    "\n",
    "text = \"\"\"CREATE TABLE departments (\n",
    "    id integer,\n",
    "    name character varying,\n",
    "    location character varying\n",
    ")\n",
    "\n",
    "CREATE TABLE employees (\n",
    "    id integer,\n",
    "    salary integer,\n",
    "    department_id integer,\n",
    "    name character varying,\n",
    "    position character varying\n",
    ")\n",
    "\n",
    "\n",
    "-- Using valid PostgreSQL, answer the following questions for the tables provided above.\n",
    "\n",
    "-- Give me name and salary of employees whose salary is greater than 50000 and department is Account.\n",
    "SELECT\"\"\"\n",
    "\n",
    "input_ids = tokenizer(text, return_tensors=\"pt\").input_ids\n",
    "\n",
    "generated_ids = model.generate(input_ids.cuda(), max_length=1024)\n",
    "opt = tokenizer.decode(generated_ids[0], skip_special_tokens=True)\n"
   ]
  },
  {
   "cell_type": "code",
   "execution_count": 25,
   "metadata": {},
   "outputs": [],
   "source": [
    "def extract_and_correct_sql(text, correct = False):\n",
    "    lines = text.splitlines()\n",
    "\n",
    "    start_index = 0\n",
    "    for i, line in enumerate(lines):\n",
    "        if line.strip().upper().startswith('SELECT'):\n",
    "            start_index = i\n",
    "            break\n",
    "\n",
    "    generated_sql = \"\\n\".join(lines[start_index:])\n",
    "\n",
    "    if correct:\n",
    "        if not generated_sql.strip().endswith(';'):\n",
    "            generated_sql = generated_sql.strip() + ';'\n",
    "\n",
    "    return generated_sql"
   ]
  },
  {
   "cell_type": "code",
   "execution_count": 26,
   "metadata": {},
   "outputs": [
    {
     "data": {
      "text/plain": [
       "'SELECT name, salary FROM employees WHERE salary > 50000 INTERSECT SELECT name, salary FROM employees WHERE department_id = 1'"
      ]
     },
     "execution_count": 26,
     "metadata": {},
     "output_type": "execute_result"
    }
   ],
   "source": [
    "extract_and_correct_sql(opt)"
   ]
  },
  {
   "cell_type": "code",
   "execution_count": 5,
   "metadata": {},
   "outputs": [],
   "source": [
    "import re \n",
    "class SQLExtractor:\n",
    "    def __init__(self, text: str):\n",
    "        self.text = text\n",
    "\n",
    "    def extract_select_commands(self):\n",
    "        # Regular expression to find all SELECT commands\n",
    "        select_pattern = re.compile(r\"SELECT\\s.*?;\", re.IGNORECASE | re.DOTALL)\n",
    "        select_commands = select_pattern.findall(self.text)\n",
    "        return select_commands\n"
   ]
  },
  {
   "cell_type": "code",
   "execution_count": 6,
   "metadata": {},
   "outputs": [],
   "source": [
    "ext = SQLExtractor(text=opt)"
   ]
  },
  {
   "cell_type": "code",
   "execution_count": 7,
   "metadata": {},
   "outputs": [
    {
     "data": {
      "text/plain": [
       "[]"
      ]
     },
     "execution_count": 7,
     "metadata": {},
     "output_type": "execute_result"
    }
   ],
   "source": [
    "ext.extract_select_commands()"
   ]
  },
  {
   "cell_type": "code",
   "execution_count": 9,
   "metadata": {},
   "outputs": [
    {
     "name": "stdout",
     "output_type": "stream",
     "text": [
      "CREATE TABLE departments (\n",
      "    id integer,\n",
      "    name character varying,\n",
      "    location character varying\n",
      ")\n",
      "\n",
      "CREATE TABLE employees (\n",
      "    id integer,\n",
      "    salary integer,\n",
      "    department_id integer,\n",
      "    name character varying,\n",
      "    position character varying\n",
      ")\n",
      "\n",
      "\n",
      "-- Using valid PostgreSQL, answer the following questions for the tables provided above.\n",
      "\n",
      "-- Give me name and salary of employees whose salary is greater than 50000.\n",
      "SELECT name, salary FROM employees WHERE salary > 50000\n"
     ]
    }
   ],
   "source": [
    "print(opt)"
   ]
  },
  {
   "cell_type": "code",
   "execution_count": 14,
   "metadata": {},
   "outputs": [
    {
     "name": "stdout",
     "output_type": "stream",
     "text": [
      "SELECT name, salary FROM employees WHERE salary > 50000;\n"
     ]
    }
   ],
   "source": [
    "import re\n",
    "\n",
    "class SQLExtractor:\n",
    "    def __init__(self, text: str):\n",
    "        self.text = text\n",
    "\n",
    "    def extract_select_commands(self):\n",
    "        # Regular expression to find all SELECT commands ending with a semicolon\n",
    "        select_pattern = re.compile(r\"SELECT\\s.*?;\", re.IGNORECASE | re.DOTALL)\n",
    "        select_commands = select_pattern.findall(self.text)\n",
    "        return select_commands\n",
    "\n",
    "# Example usage\n",
    "sql_text = \"\"\"\n",
    "CREATE TABLE departments (\n",
    "    id integer,\n",
    "    name character varying,\n",
    "    location character varying\n",
    ");\n",
    "\n",
    "CREATE TABLE employees (\n",
    "    id integer,\n",
    "    salary integer,\n",
    "    department_id integer,\n",
    "    name character varying,\n",
    "    position character varying\n",
    ");\n",
    "\n",
    "-- Using valid PostgreSQL, answer the following questions for the tables provided above.\n",
    "\n",
    "-- Give me name and salary of employees whose salary is greater than 50000.\n",
    "SELECT name, salary FROM employees WHERE salary > 50000;\n",
    "\"\"\"\n",
    "\n",
    "extractor = SQLExtractor(sql_text)\n",
    "select_commands = extractor.extract_select_commands()\n",
    "for command in select_commands:\n",
    "    print(command)\n"
   ]
  },
  {
   "cell_type": "code",
   "execution_count": 12,
   "metadata": {},
   "outputs": [
    {
     "name": "stdout",
     "output_type": "stream",
     "text": [
      "\n"
     ]
    }
   ],
   "source": [
    "import re\n",
    "\n",
    "class SQLExtractor:\n",
    "    def __init__(self, text: str):\n",
    "        self.text = text\n",
    "\n",
    "    def extract_select_commands(self):\n",
    "        # Regular expression to find all SELECT commands\n",
    "        select_pattern = re.compile(r\"SELECT\\s.*?(?=(SELECT|CREATE|\\Z))\", re.IGNORECASE | re.DOTALL)\n",
    "        select_commands = select_pattern.findall(self.text)\n",
    "        return [command.strip() for command in select_commands]\n",
    "\n",
    "# Example usage\n",
    "sql_text = \"\"\"\n",
    "CREATE TABLE departments (\n",
    "    id integer,\n",
    "    name character varying,\n",
    "    location character varying\n",
    ");\n",
    "\n",
    "CREATE TABLE employees (\n",
    "    id integer,\n",
    "    salary integer,\n",
    "    department_id integer,\n",
    "    name character varying,\n",
    "    position character varying\n",
    ");\n",
    "\n",
    "-- Using valid PostgreSQL, answer the following questions for the tables provided above.\n",
    "\n",
    "-- Give me name and salary of employees whose salary is greater than 50000.\n",
    "SELECT name, salary FROM employees WHERE salary > 50000\n",
    "\"\"\"\n",
    "\n",
    "extractor = SQLExtractor(sql_text)\n",
    "select_commands = extractor.extract_select_commands()\n",
    "for command in select_commands:\n",
    "    print(command)\n"
   ]
  },
  {
   "cell_type": "code",
   "execution_count": null,
   "metadata": {},
   "outputs": [],
   "source": []
  }
 ],
 "metadata": {
  "kernelspec": {
   "display_name": "nlp_term2",
   "language": "python",
   "name": "python3"
  },
  "language_info": {
   "codemirror_mode": {
    "name": "ipython",
    "version": 3
   },
   "file_extension": ".py",
   "mimetype": "text/x-python",
   "name": "python",
   "nbconvert_exporter": "python",
   "pygments_lexer": "ipython3",
   "version": "3.10.0"
  }
 },
 "nbformat": 4,
 "nbformat_minor": 2
}
